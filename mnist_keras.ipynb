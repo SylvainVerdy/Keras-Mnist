{
  "nbformat": 4,
  "nbformat_minor": 0,
  "metadata": {
    "colab": {
      "name": "CNN_PXL.ipynb",
      "provenance": [],
      "collapsed_sections": []
    },
    "kernelspec": {
      "name": "python3",
      "display_name": "Python 3"
    }
  },
  "cells": [
    {
      "cell_type": "code",
      "metadata": {
        "id": "uqrJzDmTrH3z",
        "colab_type": "code",
        "colab": {
          "base_uri": "https://localhost:8080/",
          "height": 108
        },
        "outputId": "adb0afcd-ad7b-45df-9093-5879befbcf52"
      },
      "source": [
        "!pip install keras==2.1.3"
      ],
      "execution_count": 45,
      "outputs": [
        {
          "output_type": "stream",
          "text": [
            "Requirement already satisfied: keras==2.1.3 in /usr/local/lib/python3.6/dist-packages (2.1.3)\n",
            "Requirement already satisfied: pyyaml in /usr/local/lib/python3.6/dist-packages (from keras==2.1.3) (3.13)\n",
            "Requirement already satisfied: scipy>=0.14 in /usr/local/lib/python3.6/dist-packages (from keras==2.1.3) (1.4.1)\n",
            "Requirement already satisfied: six>=1.9.0 in /usr/local/lib/python3.6/dist-packages (from keras==2.1.3) (1.12.0)\n",
            "Requirement already satisfied: numpy>=1.9.1 in /usr/local/lib/python3.6/dist-packages (from keras==2.1.3) (1.17.5)\n"
          ],
          "name": "stdout"
        }
      ]
    },
    {
      "cell_type": "code",
      "metadata": {
        "id": "VnZW0DXIPV-W",
        "colab_type": "code",
        "colab": {}
      },
      "source": [
        "import keras\n",
        "from tensorflow.keras.models import load_model\n",
        "from keras.models import Sequential\n",
        "from keras.layers import Dense, Conv2D, Flatten, Dropout, MaxPooling2D\n"
      ],
      "execution_count": 0,
      "outputs": []
    },
    {
      "cell_type": "markdown",
      "metadata": {
        "id": "7-ShGLEBqIt2",
        "colab_type": "text"
      },
      "source": [
        "\n",
        "# Load data"
      ]
    },
    {
      "cell_type": "code",
      "metadata": {
        "id": "W1jpRxyvqNg8",
        "colab_type": "code",
        "colab": {
          "base_uri": "https://localhost:8080/",
          "height": 53
        },
        "outputId": "1334ecae-42e4-4f59-829d-e39319c3efba"
      },
      "source": [
        "from keras.datasets import mnist\n",
        "# the data, split between train and test sets\n",
        "(x_train, y_train), (x_test, y_test) = mnist.load_data()\n",
        "x_train = x_train.reshape(x_train.shape[0],28,28,1)\n",
        "x_test = x_test.reshape(x_test.shape[0],28,28,1)\n",
        "\n",
        "y_train = keras.utils.to_categorical(y_train, 10)\n",
        "y_test = keras.utils.to_categorical(y_test, 10)\n",
        "\n",
        "print(x_train.shape)\n",
        "print(x_test.shape)"
      ],
      "execution_count": 55,
      "outputs": [
        {
          "output_type": "stream",
          "text": [
            "(60000, 28, 28, 1)\n",
            "(10000, 28, 28, 1)\n"
          ],
          "name": "stdout"
        }
      ]
    },
    {
      "cell_type": "markdown",
      "metadata": {
        "id": "TVAzd611qOWb",
        "colab_type": "text"
      },
      "source": [
        "# Model"
      ]
    },
    {
      "cell_type": "code",
      "metadata": {
        "id": "H1YEK8Z0qEeV",
        "colab_type": "code",
        "colab": {}
      },
      "source": [
        "def CNN0() :\n",
        "    model=Sequential()\n",
        "    \n",
        "    # format input data : (taille_app, 28, 28, 1)\n",
        "    \n",
        "    model.add(Conv2D(6, kernel_size=(5,5),\n",
        "                     strides=(1,1), \n",
        "                     padding='valid',  #no padding\n",
        "                     data_format='channels_last',\n",
        "                     activation='relu', input_shape=(28,28,1))) \n",
        "    model.add(MaxPooling2D(pool_size=(2,2)))\n",
        "    model.add(Conv2D(16, kernel_size=(5,5),\n",
        "                     strides=(1,1),\n",
        "                     activation='relu'))\n",
        "    model.add(MaxPooling2D(pool_size=(2,2)))\n",
        "    model.add(Flatten())\n",
        "    model.add(Dense(128, activation='relu'))\n",
        "    #model.add(Dense(84, activation='relu'))\n",
        "\n",
        "    model.add(Dense(10, activation='softmax'))\n",
        "    \n",
        "    model.compile(loss='categorical_crossentropy', optimizer='rmsprop', metrics=['accuracy'])\n",
        "    return model\n"
      ],
      "execution_count": 0,
      "outputs": []
    },
    {
      "cell_type": "markdown",
      "metadata": {
        "id": "EAZKXM16q_6R",
        "colab_type": "text"
      },
      "source": [
        "### Eval"
      ]
    },
    {
      "cell_type": "code",
      "metadata": {
        "id": "3Wn4jkeeqFLe",
        "colab_type": "code",
        "colab": {
          "base_uri": "https://localhost:8080/",
          "height": 1000
        },
        "outputId": "9bd83fd2-8bef-418a-9a67-91e92fb7d6b9"
      },
      "source": [
        "from keras.models import load_model, Model\n",
        "\n",
        "batch_size = 128\n",
        "num_classes = 10\n",
        "epochs = 12\n",
        "\n",
        "# input image dimensions\n",
        "img_rows, img_cols = 28, 28\n",
        "\n",
        "\n",
        "model.fit(x_train, y_train,epochs=100, \n",
        "          batch_size=128, \n",
        "          verbose=1, \n",
        "          validation_split=0.1)\n",
        "\n",
        "model.save(\"./CNN0_PXL.h5\")\n",
        "score = model.evaluate(x_test, y_test, verbose=0)\n",
        "print('Test loss:', score[0])\n",
        "print('Test accuracy:', score[1])"
      ],
      "execution_count": 0,
      "outputs": [
        {
          "output_type": "stream",
          "text": [
            "Train on 54000 samples, validate on 6000 samples\n",
            "Epoch 1/100\n",
            "54000/54000 [==============================] - 19s 356us/step - loss: 0.0151 - acc: 0.9952 - val_loss: 0.0289 - val_acc: 0.9930\n",
            "Epoch 2/100\n",
            "54000/54000 [==============================] - 19s 354us/step - loss: 0.0125 - acc: 0.9958 - val_loss: 0.0373 - val_acc: 0.9908\n",
            "Epoch 3/100\n",
            "54000/54000 [==============================] - 19s 353us/step - loss: 0.0093 - acc: 0.9970 - val_loss: 0.0257 - val_acc: 0.9938\n",
            "Epoch 4/100\n",
            "54000/54000 [==============================] - 19s 353us/step - loss: 0.0069 - acc: 0.9976 - val_loss: 0.0320 - val_acc: 0.9923\n",
            "Epoch 5/100\n",
            "54000/54000 [==============================] - 19s 356us/step - loss: 0.0060 - acc: 0.9979 - val_loss: 0.0352 - val_acc: 0.9925\n",
            "Epoch 6/100\n",
            "54000/54000 [==============================] - 19s 357us/step - loss: 0.0053 - acc: 0.9983 - val_loss: 0.0377 - val_acc: 0.9920\n",
            "Epoch 7/100\n",
            "54000/54000 [==============================] - 19s 358us/step - loss: 0.0047 - acc: 0.9983 - val_loss: 0.0361 - val_acc: 0.9928\n",
            "Epoch 8/100\n",
            "54000/54000 [==============================] - 19s 361us/step - loss: 0.0034 - acc: 0.9989 - val_loss: 0.0404 - val_acc: 0.9915\n",
            "Epoch 9/100\n",
            "54000/54000 [==============================] - 19s 359us/step - loss: 0.0035 - acc: 0.9988 - val_loss: 0.0447 - val_acc: 0.9925\n",
            "Epoch 10/100\n",
            "54000/54000 [==============================] - 19s 361us/step - loss: 0.0024 - acc: 0.9993 - val_loss: 0.0464 - val_acc: 0.9913\n",
            "Epoch 11/100\n",
            "54000/54000 [==============================] - 19s 352us/step - loss: 0.0028 - acc: 0.9992 - val_loss: 0.0334 - val_acc: 0.9940\n",
            "Epoch 12/100\n",
            "54000/54000 [==============================] - 19s 355us/step - loss: 0.0016 - acc: 0.9995 - val_loss: 0.0342 - val_acc: 0.9935\n",
            "Epoch 13/100\n",
            "54000/54000 [==============================] - 19s 352us/step - loss: 0.0038 - acc: 0.9986 - val_loss: 0.0417 - val_acc: 0.9923\n",
            "Epoch 14/100\n",
            "54000/54000 [==============================] - 19s 361us/step - loss: 0.0016 - acc: 0.9994 - val_loss: 0.0415 - val_acc: 0.9920\n",
            "Epoch 15/100\n",
            "54000/54000 [==============================] - 19s 358us/step - loss: 0.0016 - acc: 0.9995 - val_loss: 0.0449 - val_acc: 0.9922\n",
            "Epoch 16/100\n",
            "54000/54000 [==============================] - 19s 356us/step - loss: 0.0017 - acc: 0.9995 - val_loss: 0.0424 - val_acc: 0.9922\n",
            "Epoch 17/100\n",
            "54000/54000 [==============================] - 19s 359us/step - loss: 0.0016 - acc: 0.9994 - val_loss: 0.0471 - val_acc: 0.9922\n",
            "Epoch 18/100\n",
            "54000/54000 [==============================] - 19s 355us/step - loss: 9.8632e-04 - acc: 0.9997 - val_loss: 0.0477 - val_acc: 0.9927\n",
            "Epoch 19/100\n",
            "54000/54000 [==============================] - 19s 354us/step - loss: 0.0012 - acc: 0.9996 - val_loss: 0.0370 - val_acc: 0.9947\n",
            "Epoch 20/100\n",
            "54000/54000 [==============================] - 20s 363us/step - loss: 0.0022 - acc: 0.9994 - val_loss: 0.0493 - val_acc: 0.9928\n",
            "Epoch 21/100\n",
            "54000/54000 [==============================] - 19s 358us/step - loss: 8.4131e-04 - acc: 0.9997 - val_loss: 0.0653 - val_acc: 0.9900\n",
            "Epoch 22/100\n",
            "54000/54000 [==============================] - 19s 358us/step - loss: 8.9708e-04 - acc: 0.9996 - val_loss: 0.0507 - val_acc: 0.9923\n",
            "Epoch 23/100\n",
            "54000/54000 [==============================] - 19s 361us/step - loss: 8.3137e-04 - acc: 0.9998 - val_loss: 0.0540 - val_acc: 0.9927\n",
            "Epoch 24/100\n",
            "54000/54000 [==============================] - 20s 362us/step - loss: 7.5402e-04 - acc: 0.9997 - val_loss: 0.0657 - val_acc: 0.9897\n",
            "Epoch 25/100\n",
            "54000/54000 [==============================] - 20s 363us/step - loss: 0.0026 - acc: 0.9993 - val_loss: 0.0503 - val_acc: 0.9912\n",
            "Epoch 26/100\n",
            "54000/54000 [==============================] - 19s 360us/step - loss: 0.0016 - acc: 0.9994 - val_loss: 0.0529 - val_acc: 0.9930\n",
            "Epoch 27/100\n",
            "54000/54000 [==============================] - 19s 360us/step - loss: 0.0015 - acc: 0.9995 - val_loss: 0.0526 - val_acc: 0.9920\n",
            "Epoch 28/100\n",
            "54000/54000 [==============================] - 20s 362us/step - loss: 4.7124e-04 - acc: 0.9998 - val_loss: 0.0578 - val_acc: 0.9917\n",
            "Epoch 29/100\n",
            "54000/54000 [==============================] - 20s 364us/step - loss: 5.3834e-04 - acc: 0.9998 - val_loss: 0.0516 - val_acc: 0.9923\n",
            "Epoch 30/100\n",
            "54000/54000 [==============================] - 20s 370us/step - loss: 2.7250e-04 - acc: 0.9999 - val_loss: 0.0510 - val_acc: 0.9928\n",
            "Epoch 31/100\n",
            "54000/54000 [==============================] - 20s 362us/step - loss: 1.5016e-04 - acc: 1.0000 - val_loss: 0.0578 - val_acc: 0.9923\n",
            "Epoch 32/100\n",
            "54000/54000 [==============================] - 19s 360us/step - loss: 2.0096e-04 - acc: 0.9999 - val_loss: 0.0630 - val_acc: 0.9912\n",
            "Epoch 33/100\n",
            "54000/54000 [==============================] - 19s 360us/step - loss: 6.0960e-04 - acc: 0.9998 - val_loss: 0.0533 - val_acc: 0.9935\n",
            "Epoch 34/100\n",
            "54000/54000 [==============================] - 19s 357us/step - loss: 1.1378e-04 - acc: 1.0000 - val_loss: 0.0528 - val_acc: 0.9927\n",
            "Epoch 35/100\n",
            "54000/54000 [==============================] - 20s 362us/step - loss: 1.3763e-04 - acc: 0.9999 - val_loss: 0.0505 - val_acc: 0.9937\n",
            "Epoch 36/100\n",
            "54000/54000 [==============================] - 19s 359us/step - loss: 2.0767e-04 - acc: 0.9999 - val_loss: 0.0594 - val_acc: 0.9920\n",
            "Epoch 37/100\n",
            "54000/54000 [==============================] - 20s 361us/step - loss: 9.1858e-05 - acc: 1.0000 - val_loss: 0.0591 - val_acc: 0.9928\n",
            "Epoch 38/100\n",
            "54000/54000 [==============================] - 20s 364us/step - loss: 5.3530e-05 - acc: 1.0000 - val_loss: 0.0567 - val_acc: 0.9927\n",
            "Epoch 39/100\n",
            "54000/54000 [==============================] - 19s 360us/step - loss: 1.1895e-05 - acc: 1.0000 - val_loss: 0.0563 - val_acc: 0.9928\n",
            "Epoch 40/100\n",
            "54000/54000 [==============================] - 20s 362us/step - loss: 2.1870e-06 - acc: 1.0000 - val_loss: 0.0515 - val_acc: 0.9935\n",
            "Epoch 41/100\n",
            "54000/54000 [==============================] - 19s 360us/step - loss: 3.9332e-07 - acc: 1.0000 - val_loss: 0.0511 - val_acc: 0.9940\n",
            "Epoch 42/100\n",
            "54000/54000 [==============================] - 20s 365us/step - loss: 2.7564e-07 - acc: 1.0000 - val_loss: 0.0515 - val_acc: 0.9938\n",
            "Epoch 43/100\n",
            "54000/54000 [==============================] - 19s 358us/step - loss: 2.5112e-07 - acc: 1.0000 - val_loss: 0.0515 - val_acc: 0.9938\n",
            "Epoch 44/100\n",
            "54000/54000 [==============================] - 19s 360us/step - loss: 2.3639e-07 - acc: 1.0000 - val_loss: 0.0516 - val_acc: 0.9938\n",
            "Epoch 45/100\n",
            "54000/54000 [==============================] - 19s 359us/step - loss: 2.2602e-07 - acc: 1.0000 - val_loss: 0.0517 - val_acc: 0.9938\n",
            "Epoch 46/100\n",
            "54000/54000 [==============================] - 20s 367us/step - loss: 2.1807e-07 - acc: 1.0000 - val_loss: 0.0516 - val_acc: 0.9938\n",
            "Epoch 47/100\n",
            "54000/54000 [==============================] - 19s 361us/step - loss: 2.1170e-07 - acc: 1.0000 - val_loss: 0.0517 - val_acc: 0.9938\n",
            "Epoch 48/100\n",
            "54000/54000 [==============================] - 19s 360us/step - loss: 2.0618e-07 - acc: 1.0000 - val_loss: 0.0517 - val_acc: 0.9938\n",
            "Epoch 49/100\n",
            "54000/54000 [==============================] - 19s 359us/step - loss: 2.0143e-07 - acc: 1.0000 - val_loss: 0.0517 - val_acc: 0.9938\n",
            "Epoch 50/100\n",
            "54000/54000 [==============================] - 19s 357us/step - loss: 1.9723e-07 - acc: 1.0000 - val_loss: 0.0517 - val_acc: 0.9938\n",
            "Epoch 51/100\n",
            "54000/54000 [==============================] - 20s 362us/step - loss: 1.9374e-07 - acc: 1.0000 - val_loss: 0.0517 - val_acc: 0.9938\n",
            "Epoch 52/100\n",
            "54000/54000 [==============================] - 19s 358us/step - loss: 1.9050e-07 - acc: 1.0000 - val_loss: 0.0517 - val_acc: 0.9938\n",
            "Epoch 53/100\n",
            "54000/54000 [==============================] - 19s 354us/step - loss: 1.8757e-07 - acc: 1.0000 - val_loss: 0.0518 - val_acc: 0.9938\n",
            "Epoch 54/100\n",
            "54000/54000 [==============================] - 19s 357us/step - loss: 1.8504e-07 - acc: 1.0000 - val_loss: 0.0518 - val_acc: 0.9938\n",
            "Epoch 55/100\n",
            "54000/54000 [==============================] - 19s 359us/step - loss: 1.8268e-07 - acc: 1.0000 - val_loss: 0.0518 - val_acc: 0.9938\n",
            "Epoch 56/100\n",
            "54000/54000 [==============================] - 19s 360us/step - loss: 1.8056e-07 - acc: 1.0000 - val_loss: 0.0518 - val_acc: 0.9938\n",
            "Epoch 57/100\n",
            "54000/54000 [==============================] - 19s 359us/step - loss: 1.7856e-07 - acc: 1.0000 - val_loss: 0.0517 - val_acc: 0.9938\n",
            "Epoch 58/100\n",
            "54000/54000 [==============================] - 20s 365us/step - loss: 1.7672e-07 - acc: 1.0000 - val_loss: 0.0517 - val_acc: 0.9938\n",
            "Epoch 59/100\n",
            "54000/54000 [==============================] - 19s 360us/step - loss: 1.7509e-07 - acc: 1.0000 - val_loss: 0.0517 - val_acc: 0.9938\n",
            "Epoch 60/100\n",
            "54000/54000 [==============================] - 20s 363us/step - loss: 1.7351e-07 - acc: 1.0000 - val_loss: 0.0518 - val_acc: 0.9938\n",
            "Epoch 61/100\n",
            "54000/54000 [==============================] - 19s 356us/step - loss: 1.7213e-07 - acc: 1.0000 - val_loss: 0.0518 - val_acc: 0.9938\n",
            "Epoch 62/100\n",
            "54000/54000 [==============================] - 19s 359us/step - loss: 1.7077e-07 - acc: 1.0000 - val_loss: 0.0518 - val_acc: 0.9938\n",
            "Epoch 63/100\n",
            "54000/54000 [==============================] - 19s 356us/step - loss: 1.6947e-07 - acc: 1.0000 - val_loss: 0.0518 - val_acc: 0.9938\n",
            "Epoch 64/100\n",
            "54000/54000 [==============================] - 19s 360us/step - loss: 1.6831e-07 - acc: 1.0000 - val_loss: 0.0518 - val_acc: 0.9938\n",
            "Epoch 65/100\n",
            "54000/54000 [==============================] - 20s 362us/step - loss: 1.6720e-07 - acc: 1.0000 - val_loss: 0.0518 - val_acc: 0.9938\n",
            "Epoch 66/100\n",
            "54000/54000 [==============================] - 19s 360us/step - loss: 1.6613e-07 - acc: 1.0000 - val_loss: 0.0518 - val_acc: 0.9938\n",
            "Epoch 67/100\n",
            "54000/54000 [==============================] - 19s 359us/step - loss: 1.6512e-07 - acc: 1.0000 - val_loss: 0.0517 - val_acc: 0.9938\n",
            "Epoch 68/100\n",
            "54000/54000 [==============================] - 19s 356us/step - loss: 1.6421e-07 - acc: 1.0000 - val_loss: 0.0518 - val_acc: 0.9938\n",
            "Epoch 69/100\n",
            " 6656/54000 [==>...........................] - ETA: 16s - loss: 1.8310e-07 - acc: 1.0000"
          ],
          "name": "stdout"
        }
      ]
    },
    {
      "cell_type": "code",
      "metadata": {
        "id": "FlfnUb-Du0GV",
        "colab_type": "code",
        "colab": {}
      },
      "source": [
        ""
      ],
      "execution_count": 0,
      "outputs": []
    },
    {
      "cell_type": "code",
      "metadata": {
        "id": "xraavjUfuwqM",
        "colab_type": "code",
        "colab": {}
      },
      "source": [
        ""
      ],
      "execution_count": 0,
      "outputs": []
    }
  ]
}